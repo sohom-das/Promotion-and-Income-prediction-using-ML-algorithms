{
 "cells": [
  {
   "cell_type": "code",
   "execution_count": 1,
   "id": "158c70ed",
   "metadata": {},
   "outputs": [
    {
     "name": "stdout",
     "output_type": "stream",
     "text": [
      "Requirement already satisfied: keras-rl2 in /Users/vaishnavbharadwaj/Documents/lectures/mldm_cw/env/lib/python3.9/site-packages (1.0.5)\n",
      "Requirement already satisfied: tensorflow in /Users/vaishnavbharadwaj/Documents/lectures/mldm_cw/env/lib/python3.9/site-packages (from keras-rl2) (2.8.0)\n",
      "Requirement already satisfied: termcolor>=1.1.0 in /Users/vaishnavbharadwaj/Documents/lectures/mldm_cw/env/lib/python3.9/site-packages (from tensorflow->keras-rl2) (1.1.0)\n",
      "Requirement already satisfied: keras<2.9,>=2.8.0rc0 in /Users/vaishnavbharadwaj/Documents/lectures/mldm_cw/env/lib/python3.9/site-packages (from tensorflow->keras-rl2) (2.8.0)\n",
      "Requirement already satisfied: astunparse>=1.6.0 in /Users/vaishnavbharadwaj/Documents/lectures/mldm_cw/env/lib/python3.9/site-packages (from tensorflow->keras-rl2) (1.6.3)\n",
      "Requirement already satisfied: tf-estimator-nightly==2.8.0.dev2021122109 in /Users/vaishnavbharadwaj/Documents/lectures/mldm_cw/env/lib/python3.9/site-packages (from tensorflow->keras-rl2) (2.8.0.dev2021122109)\n",
      "Requirement already satisfied: keras-preprocessing>=1.1.1 in /Users/vaishnavbharadwaj/Documents/lectures/mldm_cw/env/lib/python3.9/site-packages (from tensorflow->keras-rl2) (1.1.2)\n",
      "Requirement already satisfied: flatbuffers>=1.12 in /Users/vaishnavbharadwaj/Documents/lectures/mldm_cw/env/lib/python3.9/site-packages (from tensorflow->keras-rl2) (2.0)\n",
      "Requirement already satisfied: tensorboard<2.9,>=2.8 in /Users/vaishnavbharadwaj/Documents/lectures/mldm_cw/env/lib/python3.9/site-packages (from tensorflow->keras-rl2) (2.8.0)\n",
      "Requirement already satisfied: h5py>=2.9.0 in /Users/vaishnavbharadwaj/Documents/lectures/mldm_cw/env/lib/python3.9/site-packages (from tensorflow->keras-rl2) (3.6.0)\n",
      "Requirement already satisfied: protobuf>=3.9.2 in /Users/vaishnavbharadwaj/Documents/lectures/mldm_cw/env/lib/python3.9/site-packages (from tensorflow->keras-rl2) (3.20.0)\n",
      "Requirement already satisfied: six>=1.12.0 in /Users/vaishnavbharadwaj/Documents/lectures/mldm_cw/env/lib/python3.9/site-packages (from tensorflow->keras-rl2) (1.16.0)\n",
      "Requirement already satisfied: grpcio<2.0,>=1.24.3 in /Users/vaishnavbharadwaj/Documents/lectures/mldm_cw/env/lib/python3.9/site-packages (from tensorflow->keras-rl2) (1.44.0)\n",
      "Requirement already satisfied: numpy>=1.20 in /Users/vaishnavbharadwaj/Documents/lectures/mldm_cw/env/lib/python3.9/site-packages (from tensorflow->keras-rl2) (1.22.3)\n",
      "Requirement already satisfied: opt-einsum>=2.3.2 in /Users/vaishnavbharadwaj/Documents/lectures/mldm_cw/env/lib/python3.9/site-packages (from tensorflow->keras-rl2) (3.3.0)\n",
      "Requirement already satisfied: absl-py>=0.4.0 in /Users/vaishnavbharadwaj/Documents/lectures/mldm_cw/env/lib/python3.9/site-packages (from tensorflow->keras-rl2) (1.0.0)\n",
      "Requirement already satisfied: libclang>=9.0.1 in /Users/vaishnavbharadwaj/Documents/lectures/mldm_cw/env/lib/python3.9/site-packages (from tensorflow->keras-rl2) (13.0.0)\n",
      "Requirement already satisfied: gast>=0.2.1 in /Users/vaishnavbharadwaj/Documents/lectures/mldm_cw/env/lib/python3.9/site-packages (from tensorflow->keras-rl2) (0.5.3)\n",
      "Requirement already satisfied: google-pasta>=0.1.1 in /Users/vaishnavbharadwaj/Documents/lectures/mldm_cw/env/lib/python3.9/site-packages (from tensorflow->keras-rl2) (0.2.0)\n",
      "Requirement already satisfied: typing-extensions>=3.6.6 in /Users/vaishnavbharadwaj/Documents/lectures/mldm_cw/env/lib/python3.9/site-packages (from tensorflow->keras-rl2) (4.2.0)\n",
      "Requirement already satisfied: wrapt>=1.11.0 in /Users/vaishnavbharadwaj/Documents/lectures/mldm_cw/env/lib/python3.9/site-packages (from tensorflow->keras-rl2) (1.14.0)\n",
      "Requirement already satisfied: tensorflow-io-gcs-filesystem>=0.23.1 in /Users/vaishnavbharadwaj/Documents/lectures/mldm_cw/env/lib/python3.9/site-packages (from tensorflow->keras-rl2) (0.25.0)\n",
      "Requirement already satisfied: setuptools in /Users/vaishnavbharadwaj/Documents/lectures/mldm_cw/env/lib/python3.9/site-packages (from tensorflow->keras-rl2) (49.2.1)\n",
      "Requirement already satisfied: wheel<1.0,>=0.23.0 in /Users/vaishnavbharadwaj/Documents/lectures/mldm_cw/env/lib/python3.9/site-packages (from astunparse>=1.6.0->tensorflow->keras-rl2) (0.37.1)\n",
      "Requirement already satisfied: werkzeug>=0.11.15 in /Users/vaishnavbharadwaj/Documents/lectures/mldm_cw/env/lib/python3.9/site-packages (from tensorboard<2.9,>=2.8->tensorflow->keras-rl2) (2.1.1)\n",
      "Requirement already satisfied: requests<3,>=2.21.0 in /Users/vaishnavbharadwaj/Documents/lectures/mldm_cw/env/lib/python3.9/site-packages (from tensorboard<2.9,>=2.8->tensorflow->keras-rl2) (2.27.1)\n",
      "Requirement already satisfied: markdown>=2.6.8 in /Users/vaishnavbharadwaj/Documents/lectures/mldm_cw/env/lib/python3.9/site-packages (from tensorboard<2.9,>=2.8->tensorflow->keras-rl2) (3.3.6)\n",
      "Requirement already satisfied: tensorboard-data-server<0.7.0,>=0.6.0 in /Users/vaishnavbharadwaj/Documents/lectures/mldm_cw/env/lib/python3.9/site-packages (from tensorboard<2.9,>=2.8->tensorflow->keras-rl2) (0.6.1)\n",
      "Requirement already satisfied: tensorboard-plugin-wit>=1.6.0 in /Users/vaishnavbharadwaj/Documents/lectures/mldm_cw/env/lib/python3.9/site-packages (from tensorboard<2.9,>=2.8->tensorflow->keras-rl2) (1.8.1)\n",
      "Requirement already satisfied: google-auth<3,>=1.6.3 in /Users/vaishnavbharadwaj/Documents/lectures/mldm_cw/env/lib/python3.9/site-packages (from tensorboard<2.9,>=2.8->tensorflow->keras-rl2) (2.6.5)\n",
      "Requirement already satisfied: google-auth-oauthlib<0.5,>=0.4.1 in /Users/vaishnavbharadwaj/Documents/lectures/mldm_cw/env/lib/python3.9/site-packages (from tensorboard<2.9,>=2.8->tensorflow->keras-rl2) (0.4.6)\n",
      "Requirement already satisfied: urllib3<1.27,>=1.21.1 in /Users/vaishnavbharadwaj/Documents/lectures/mldm_cw/env/lib/python3.9/site-packages (from requests<3,>=2.21.0->tensorboard<2.9,>=2.8->tensorflow->keras-rl2) (1.26.9)\n",
      "Requirement already satisfied: charset-normalizer~=2.0.0; python_version >= \"3\" in /Users/vaishnavbharadwaj/Documents/lectures/mldm_cw/env/lib/python3.9/site-packages (from requests<3,>=2.21.0->tensorboard<2.9,>=2.8->tensorflow->keras-rl2) (2.0.12)\n",
      "Requirement already satisfied: idna<4,>=2.5; python_version >= \"3\" in /Users/vaishnavbharadwaj/Documents/lectures/mldm_cw/env/lib/python3.9/site-packages (from requests<3,>=2.21.0->tensorboard<2.9,>=2.8->tensorflow->keras-rl2) (3.3)\n",
      "Requirement already satisfied: certifi>=2017.4.17 in /Users/vaishnavbharadwaj/Documents/lectures/mldm_cw/env/lib/python3.9/site-packages (from requests<3,>=2.21.0->tensorboard<2.9,>=2.8->tensorflow->keras-rl2) (2021.10.8)\n",
      "Requirement already satisfied: importlib-metadata>=4.4; python_version < \"3.10\" in /Users/vaishnavbharadwaj/Documents/lectures/mldm_cw/env/lib/python3.9/site-packages (from markdown>=2.6.8->tensorboard<2.9,>=2.8->tensorflow->keras-rl2) (4.11.3)\n",
      "Requirement already satisfied: pyasn1-modules>=0.2.1 in /Users/vaishnavbharadwaj/Documents/lectures/mldm_cw/env/lib/python3.9/site-packages (from google-auth<3,>=1.6.3->tensorboard<2.9,>=2.8->tensorflow->keras-rl2) (0.2.8)\n",
      "Requirement already satisfied: rsa<5,>=3.1.4; python_version >= \"3.6\" in /Users/vaishnavbharadwaj/Documents/lectures/mldm_cw/env/lib/python3.9/site-packages (from google-auth<3,>=1.6.3->tensorboard<2.9,>=2.8->tensorflow->keras-rl2) (4.8)\n",
      "Requirement already satisfied: cachetools<6.0,>=2.0.0 in /Users/vaishnavbharadwaj/Documents/lectures/mldm_cw/env/lib/python3.9/site-packages (from google-auth<3,>=1.6.3->tensorboard<2.9,>=2.8->tensorflow->keras-rl2) (5.0.0)\n",
      "Requirement already satisfied: requests-oauthlib>=0.7.0 in /Users/vaishnavbharadwaj/Documents/lectures/mldm_cw/env/lib/python3.9/site-packages (from google-auth-oauthlib<0.5,>=0.4.1->tensorboard<2.9,>=2.8->tensorflow->keras-rl2) (1.3.1)\n",
      "Requirement already satisfied: zipp>=0.5 in /Users/vaishnavbharadwaj/Documents/lectures/mldm_cw/env/lib/python3.9/site-packages (from importlib-metadata>=4.4; python_version < \"3.10\"->markdown>=2.6.8->tensorboard<2.9,>=2.8->tensorflow->keras-rl2) (3.8.0)\n",
      "Requirement already satisfied: pyasn1<0.5.0,>=0.4.6 in /Users/vaishnavbharadwaj/Documents/lectures/mldm_cw/env/lib/python3.9/site-packages (from pyasn1-modules>=0.2.1->google-auth<3,>=1.6.3->tensorboard<2.9,>=2.8->tensorflow->keras-rl2) (0.4.8)\n",
      "Requirement already satisfied: oauthlib>=3.0.0 in /Users/vaishnavbharadwaj/Documents/lectures/mldm_cw/env/lib/python3.9/site-packages (from requests-oauthlib>=0.7.0->google-auth-oauthlib<0.5,>=0.4.1->tensorboard<2.9,>=2.8->tensorflow->keras-rl2) (3.2.0)\n"
     ]
    },
    {
     "name": "stdout",
     "output_type": "stream",
     "text": [
      "\u001b[33mWARNING: You are using pip version 20.2.3; however, version 22.1.1 is available.\r\n",
      "You should consider upgrading via the '/Users/vaishnavbharadwaj/Documents/lectures/mldm_cw/env/bin/python3 -m pip install --upgrade pip' command.\u001b[0m\r\n"
     ]
    }
   ],
   "source": [
    "# !pip3 install gym\n",
    "!pip3 install keras-rl2"
   ]
  },
  {
   "cell_type": "code",
   "execution_count": 2,
   "id": "aef9ba17",
   "metadata": {},
   "outputs": [],
   "source": [
    "from gym import Env\n",
    "from gym import spaces\n",
    "import numpy as np\n",
    "import random"
   ]
  },
  {
   "cell_type": "code",
   "execution_count": 8,
   "id": "213febce",
   "metadata": {},
   "outputs": [],
   "source": [
    "class tempReg(Env):\n",
    "    def __init__(self):\n",
    "        # actions are regulator up, down or stay the same\n",
    "        self.action_space = spaces.Discrete(3)\n",
    "        #chiller temperature array\n",
    "        self.observation_space = spaces.Box(low=np.array([0]), high=np.array([100]))\n",
    "        #set start temp of chiller\n",
    "        self.state = 2 + random.randint(-3,3)\n",
    "        #set chiller duration to maintain the temperature\n",
    "        self.chiller_length = 60\n",
    "        \n",
    "    def step(self, action):\n",
    "        self.state += action -1\n",
    "        self.chiller_length -= 1\n",
    "        \n",
    "        if self.state >=1 and self.state <=5:\n",
    "            # reward if the chiller temperature is in between this region\n",
    "            reward = 1\n",
    "        else:\n",
    "            # remove the reward from the state\n",
    "            reward = -1\n",
    "            \n",
    "        if self.chiller_length <=0:\n",
    "            done=True\n",
    "        else:\n",
    "            done = False\n",
    "            \n",
    "        self.state += random.randint(-1,1)\n",
    "        \n",
    "        info = {}\n",
    "        \n",
    "        return self.state, reward, done, info\n",
    "    \n",
    "    def render(self):\n",
    "        pass\n",
    "    def reset(self):\n",
    "        self.state = 3 + random.randint(-2,2)\n",
    "        self.chiller_length = 60\n",
    "        return self.state"
   ]
  },
  {
   "cell_type": "code",
   "execution_count": null,
   "id": "7b369072",
   "metadata": {},
   "outputs": [],
   "source": [
    "env = tempReg()"
   ]
  },
  {
   "cell_type": "code",
   "execution_count": 10,
   "id": "27dc40bb",
   "metadata": {},
   "outputs": [
    {
     "data": {
      "text/plain": [
       "0"
      ]
     },
     "execution_count": 10,
     "metadata": {},
     "output_type": "execute_result"
    }
   ],
   "source": [
    "env.action_space.sample()"
   ]
  },
  {
   "cell_type": "code",
   "execution_count": 11,
   "id": "c9f84e79",
   "metadata": {},
   "outputs": [
    {
     "data": {
      "text/plain": [
       "array([42.87957225])"
      ]
     },
     "execution_count": 11,
     "metadata": {},
     "output_type": "execute_result"
    }
   ],
   "source": [
    "env.observation_space.sample()"
   ]
  },
  {
   "cell_type": "code",
   "execution_count": 12,
   "id": "70d9a86d",
   "metadata": {},
   "outputs": [
    {
     "name": "stdout",
     "output_type": "stream",
     "text": [
      "Episode: 1 score: -6\n",
      "Episode: 2 score: 0\n",
      "Episode: 3 score: -54\n",
      "Episode: 4 score: -42\n",
      "Episode: 5 score: -40\n",
      "Episode: 6 score: 20\n",
      "Episode: 7 score: -60\n",
      "Episode: 8 score: 16\n",
      "Episode: 9 score: -42\n",
      "Episode: 10 score: -26\n"
     ]
    }
   ],
   "source": [
    "episodes = 10\n",
    "for episode in range(1, episodes+1):\n",
    "    state = env.reset()\n",
    "    done = False\n",
    "    score = 0\n",
    "    \n",
    "    while not done:\n",
    "        env.render()\n",
    "        action = env.action_space.sample()\n",
    "        n_state, reward, done, info = env.step(action)\n",
    "        score+=reward\n",
    "    print('Episode: {} score: {}'.format(episode, score))"
   ]
  },
  {
   "cell_type": "markdown",
   "id": "5cea5472",
   "metadata": {},
   "source": [
    "## Creating a deep learning model with keras"
   ]
  },
  {
   "cell_type": "code",
   "execution_count": 13,
   "id": "1dfbd8d6",
   "metadata": {},
   "outputs": [],
   "source": [
    "from tensorflow import keras\n",
    "from tensorflow.keras import layers\n",
    "# from tensorflow.keras.models import Sequential\n",
    "# from tensorflow.keras.layers import Dense, Flatten\n",
    "# from tensorflow.keras.optimizers import Adam\n",
    "# from tensorflow import keras"
   ]
  },
  {
   "cell_type": "code",
   "execution_count": 14,
   "id": "cc3fa8ba",
   "metadata": {},
   "outputs": [],
   "source": [
    "states = env.observation_space.shape\n",
    "actions = env.action_space.n"
   ]
  },
  {
   "cell_type": "code",
   "execution_count": 15,
   "id": "88493044",
   "metadata": {},
   "outputs": [
    {
     "data": {
      "text/plain": [
       "(1,)"
      ]
     },
     "execution_count": 15,
     "metadata": {},
     "output_type": "execute_result"
    }
   ],
   "source": [
    "states"
   ]
  },
  {
   "cell_type": "code",
   "execution_count": 16,
   "id": "6a36b4d6",
   "metadata": {},
   "outputs": [
    {
     "data": {
      "text/plain": [
       "3"
      ]
     },
     "execution_count": 16,
     "metadata": {},
     "output_type": "execute_result"
    }
   ],
   "source": [
    "actions"
   ]
  },
  {
   "cell_type": "code",
   "execution_count": 33,
   "id": "4127c980",
   "metadata": {},
   "outputs": [],
   "source": [
    "def build_model(states, actions):\n",
    "    model = keras.Sequential() \n",
    "    model.add(layers.Dense(24, activation='relu',input_shape=states))\n",
    "    model.add(layers.Dense(24, activation='relu'))\n",
    "    model.add(layers.Dense(actions, activation=\"linear\"))\n",
    "    return model"
   ]
  },
  {
   "cell_type": "code",
   "execution_count": 32,
   "id": "a30f7432",
   "metadata": {},
   "outputs": [],
   "source": [
    "#del model"
   ]
  },
  {
   "cell_type": "code",
   "execution_count": 34,
   "id": "a9757387",
   "metadata": {},
   "outputs": [],
   "source": [
    "model = build_model(states, actions)"
   ]
  },
  {
   "cell_type": "code",
   "execution_count": 35,
   "id": "c7d99b27",
   "metadata": {},
   "outputs": [
    {
     "name": "stdout",
     "output_type": "stream",
     "text": [
      "Model: \"sequential_2\"\n",
      "_________________________________________________________________\n",
      " Layer (type)                Output Shape              Param #   \n",
      "=================================================================\n",
      " dense_6 (Dense)             (None, 24)                48        \n",
      "                                                                 \n",
      " dense_7 (Dense)             (None, 24)                600       \n",
      "                                                                 \n",
      " dense_8 (Dense)             (None, 3)                 75        \n",
      "                                                                 \n",
      "=================================================================\n",
      "Total params: 723\n",
      "Trainable params: 723\n",
      "Non-trainable params: 0\n",
      "_________________________________________________________________\n"
     ]
    }
   ],
   "source": [
    "model.summary()"
   ]
  },
  {
   "cell_type": "markdown",
   "id": "9ff3232c",
   "metadata": {},
   "source": [
    "## Building agents with keras-RL"
   ]
  },
  {
   "cell_type": "code",
   "execution_count": 36,
   "id": "bcbff862",
   "metadata": {},
   "outputs": [],
   "source": [
    "from rl.agents import DQNAgent\n",
    "from rl.policy import BoltzmannQPolicy\n",
    "from rl.memory import SequentialMemory"
   ]
  },
  {
   "cell_type": "code",
   "execution_count": 37,
   "id": "5c7d0f24",
   "metadata": {},
   "outputs": [],
   "source": [
    "def build_agent(model, actions):\n",
    "    policy = BoltzmannQPolicy()\n",
    "    memory = SequentialMemory(limit=10000, window_length=1)\n",
    "    dqn = DQNAgent(model=model, memory=memory, policy=policy, nb_actions=actions, nb_steps_warmup=10, target_model_update=1e-2)\n",
    "    return dqn"
   ]
  },
  {
   "cell_type": "code",
   "execution_count": 38,
   "id": "1028fdd6",
   "metadata": {},
   "outputs": [
    {
     "name": "stdout",
     "output_type": "stream",
     "text": [
      "Training for 10000 steps ...\n",
      "Interval 1 (0 steps performed)\n",
      "10000/10000 [==============================] - 92s 9ms/step - reward: 0.8626\n",
      "done, took 92.436 seconds\n"
     ]
    },
    {
     "data": {
      "text/plain": [
       "<keras.callbacks.History at 0x7f7c35002a90>"
      ]
     },
     "execution_count": 38,
     "metadata": {},
     "output_type": "execute_result"
    }
   ],
   "source": [
    "dqn = build_agent(model, actions)\n",
    "dqn.compile(keras.optimizers.Adam(lr=1e-3), metrics=['mae'])\n",
    "dqn.fit(env, nb_steps=10000, visualize=False, verbose=1)"
   ]
  },
  {
   "cell_type": "code",
   "execution_count": 39,
   "id": "acb78031",
   "metadata": {},
   "outputs": [
    {
     "name": "stdout",
     "output_type": "stream",
     "text": [
      "Testing for 100 episodes ...\n",
      "Episode 1: reward: 60.000, steps: 60\n",
      "Episode 2: reward: 60.000, steps: 60\n",
      "Episode 3: reward: 60.000, steps: 60\n",
      "Episode 4: reward: 60.000, steps: 60\n",
      "Episode 5: reward: 60.000, steps: 60\n",
      "Episode 6: reward: 60.000, steps: 60\n",
      "Episode 7: reward: 60.000, steps: 60\n",
      "Episode 8: reward: 60.000, steps: 60\n",
      "Episode 9: reward: 60.000, steps: 60\n",
      "Episode 10: reward: 60.000, steps: 60\n",
      "Episode 11: reward: 60.000, steps: 60\n",
      "Episode 12: reward: 60.000, steps: 60\n",
      "Episode 13: reward: 60.000, steps: 60\n",
      "Episode 14: reward: 60.000, steps: 60\n",
      "Episode 15: reward: 60.000, steps: 60\n",
      "Episode 16: reward: 60.000, steps: 60\n",
      "Episode 17: reward: 60.000, steps: 60\n",
      "Episode 18: reward: 60.000, steps: 60\n",
      "Episode 19: reward: 60.000, steps: 60\n",
      "Episode 20: reward: 60.000, steps: 60\n",
      "Episode 21: reward: 60.000, steps: 60\n",
      "Episode 22: reward: 60.000, steps: 60\n",
      "Episode 23: reward: 60.000, steps: 60\n",
      "Episode 24: reward: 60.000, steps: 60\n",
      "Episode 25: reward: 60.000, steps: 60\n",
      "Episode 26: reward: 60.000, steps: 60\n",
      "Episode 27: reward: 60.000, steps: 60\n",
      "Episode 28: reward: 60.000, steps: 60\n",
      "Episode 29: reward: 60.000, steps: 60\n",
      "Episode 30: reward: 60.000, steps: 60\n",
      "Episode 31: reward: 60.000, steps: 60\n",
      "Episode 32: reward: 60.000, steps: 60\n",
      "Episode 33: reward: 60.000, steps: 60\n",
      "Episode 34: reward: 60.000, steps: 60\n",
      "Episode 35: reward: 60.000, steps: 60\n",
      "Episode 36: reward: 60.000, steps: 60\n",
      "Episode 37: reward: 60.000, steps: 60\n",
      "Episode 38: reward: 60.000, steps: 60\n",
      "Episode 39: reward: 60.000, steps: 60\n",
      "Episode 40: reward: 60.000, steps: 60\n",
      "Episode 41: reward: 60.000, steps: 60\n",
      "Episode 42: reward: 60.000, steps: 60\n",
      "Episode 43: reward: 60.000, steps: 60\n",
      "Episode 44: reward: 60.000, steps: 60\n",
      "Episode 45: reward: 60.000, steps: 60\n",
      "Episode 46: reward: 60.000, steps: 60\n",
      "Episode 47: reward: 60.000, steps: 60\n",
      "Episode 48: reward: 60.000, steps: 60\n",
      "Episode 49: reward: 60.000, steps: 60\n",
      "Episode 50: reward: 60.000, steps: 60\n",
      "Episode 51: reward: 60.000, steps: 60\n",
      "Episode 52: reward: 60.000, steps: 60\n",
      "Episode 53: reward: 60.000, steps: 60\n",
      "Episode 54: reward: 60.000, steps: 60\n",
      "Episode 55: reward: 60.000, steps: 60\n",
      "Episode 56: reward: 60.000, steps: 60\n",
      "Episode 57: reward: 60.000, steps: 60\n",
      "Episode 58: reward: 60.000, steps: 60\n",
      "Episode 59: reward: 60.000, steps: 60\n",
      "Episode 60: reward: 60.000, steps: 60\n",
      "Episode 61: reward: 60.000, steps: 60\n",
      "Episode 62: reward: 60.000, steps: 60\n",
      "Episode 63: reward: 60.000, steps: 60\n",
      "Episode 64: reward: 60.000, steps: 60\n",
      "Episode 65: reward: 60.000, steps: 60\n",
      "Episode 66: reward: 60.000, steps: 60\n",
      "Episode 67: reward: 60.000, steps: 60\n",
      "Episode 68: reward: 60.000, steps: 60\n",
      "Episode 69: reward: 60.000, steps: 60\n",
      "Episode 70: reward: 60.000, steps: 60\n",
      "Episode 71: reward: 60.000, steps: 60\n",
      "Episode 72: reward: 60.000, steps: 60\n",
      "Episode 73: reward: 60.000, steps: 60\n",
      "Episode 74: reward: 60.000, steps: 60\n",
      "Episode 75: reward: 60.000, steps: 60\n",
      "Episode 76: reward: 60.000, steps: 60\n",
      "Episode 77: reward: 60.000, steps: 60\n",
      "Episode 78: reward: 60.000, steps: 60\n",
      "Episode 79: reward: 60.000, steps: 60\n",
      "Episode 80: reward: 60.000, steps: 60\n",
      "Episode 81: reward: 60.000, steps: 60\n",
      "Episode 82: reward: 60.000, steps: 60\n",
      "Episode 83: reward: 60.000, steps: 60\n",
      "Episode 84: reward: 60.000, steps: 60\n",
      "Episode 85: reward: 60.000, steps: 60\n",
      "Episode 86: reward: 60.000, steps: 60\n",
      "Episode 87: reward: 60.000, steps: 60\n",
      "Episode 88: reward: 60.000, steps: 60\n",
      "Episode 89: reward: 60.000, steps: 60\n",
      "Episode 90: reward: 60.000, steps: 60\n",
      "Episode 91: reward: 60.000, steps: 60\n",
      "Episode 92: reward: 60.000, steps: 60\n",
      "Episode 93: reward: 60.000, steps: 60\n",
      "Episode 94: reward: 60.000, steps: 60\n",
      "Episode 95: reward: 60.000, steps: 60\n",
      "Episode 96: reward: 60.000, steps: 60\n",
      "Episode 97: reward: 60.000, steps: 60\n",
      "Episode 98: reward: 60.000, steps: 60\n",
      "Episode 99: reward: 60.000, steps: 60\n",
      "Episode 100: reward: 60.000, steps: 60\n",
      "60.0\n"
     ]
    }
   ],
   "source": [
    "score = dqn.test(env, nb_episodes=100, visualize=False)\n",
    "print(np.mean(score.history['episode_reward']))"
   ]
  },
  {
   "cell_type": "code",
   "execution_count": null,
   "id": "2eebdeac",
   "metadata": {},
   "outputs": [],
   "source": []
  }
 ],
 "metadata": {
  "kernelspec": {
   "display_name": "Python 3 (ipykernel)",
   "language": "python",
   "name": "python3"
  },
  "language_info": {
   "codemirror_mode": {
    "name": "ipython",
    "version": 3
   },
   "file_extension": ".py",
   "mimetype": "text/x-python",
   "name": "python",
   "nbconvert_exporter": "python",
   "pygments_lexer": "ipython3",
   "version": "3.9.7"
  }
 },
 "nbformat": 4,
 "nbformat_minor": 5
}
